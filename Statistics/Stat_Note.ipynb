{
 "metadata": {
  "language_info": {
   "codemirror_mode": {
    "name": "ipython",
    "version": 3
   },
   "file_extension": ".py",
   "mimetype": "text/x-python",
   "name": "python",
   "nbconvert_exporter": "python",
   "pygments_lexer": "ipython3",
   "version": "3.8.7-final"
  },
  "orig_nbformat": 2,
  "kernelspec": {
   "name": "python3",
   "display_name": "Python 3.8.7 64-bit",
   "metadata": {
    "interpreter": {
     "hash": "f23faf4bfe871c203c8bec80520af5927fc7cb1ae3bd834ddf554ee587ad1c05"
    }
   }
  }
 },
 "nbformat": 4,
 "nbformat_minor": 2,
 "cells": [
  {
   "source": [
    "# Import"
   ],
   "cell_type": "markdown",
   "metadata": {}
  },
  {
   "cell_type": "code",
   "execution_count": 1,
   "metadata": {},
   "outputs": [
    {
     "output_type": "execute_result",
     "data": {
      "text/plain": [
       "'0.1.111'"
      ]
     },
     "metadata": {},
     "execution_count": 1
    }
   ],
   "source": [
    "from matplotlib import pyplot as plt\n",
    "import matplotlib.cm as cm\n",
    "import matplotlib.gridspec as gridspec\n",
    "from matplotlib.ticker import MaxNLocator\n",
    "import matplotlib.mlab as mlab\n",
    "%matplotlib inline\n",
    "\n",
    "# set fig size; bigger DPI results in bigger fig\n",
    "plt.rcParams[\"figure.dpi\"] = 80\n",
    "\n",
    "import seaborn as sns\n",
    "import pandas as pd\n",
    "import numpy as np\n",
    "import math\n",
    "import scipy.stats as stats\n",
    "from scipy.stats import norm\n",
    "import statsmodels.api as sm\n",
    "import statsmodels.stats.api as sms\n",
    "import statsmodels.formula.api as smf\n",
    "import plotly.express as px\n",
    "import plotly.graph_objects as go\n",
    "\n",
    "import stemgraphic as stem\n",
    "from mgt2001 import *\n",
    "import mgt2001\n",
    "\n",
    "import random\n",
    "import itertools\n",
    "import math\n",
    "from IPython.display import display_html\n",
    "plt.style.use('ggplot') # refined style\n",
    "\n",
    "\n",
    "import warnings\n",
    "warnings.simplefilter(action='ignore', category=FutureWarning)\n",
    "warnings.simplefilter(action='ignore', category=UserWarning)\n",
    "\n",
    "mgt2001.__version__"
   ]
  },
  {
   "source": [
    "# Chapter 5 : Data Collection and Sample Distribution"
   ],
   "cell_type": "markdown",
   "metadata": {}
  },
  {
   "source": [
    "Population has parameter, sample has statistics  \n",
    "\n",
    "### Sampling Methods\n",
    "- non-probabilistic sampling (**unequal** possibility of entering the sample)\n",
    "  - Convenience (ex. volunteers)\n",
    "  - Judgment (select the samples most representive of the population)\n",
    "- probabilistic sampling (**equal** and **known** possibility of entering the sample)\n",
    "  - Simple Random Sampling  \n",
    "  - Stratified Random Sampling (Seperate the population to several set, then draw random samples from sets)\n",
    "  - Cluster Sampling (Similar as stratified, each cluster is a representative small-scale version of the population )\n",
    "  - Systematic Sampling (sample one element for every N/n elements in the population)\n",
    "\n",
    "### Random sampling using python\n",
    "random.sample(): Random sample without replacement  \n",
    "random.choices(): Random sample with replacement  \n",
    "random.shuffle(): Random Permutation  \n",
    "randome.seed()  \n",
    "random.randint(a, b) a <= int <= b  \n",
    "  \n",
    "### Sampling Error  \n",
    "The absolute difference between an unbiased point estimate and the corresponding population parameter  \n",
    "Expected to happen  \n",
    "It is the result of using a subset of the population (the sample), and not the entire population to develop estimates  \n",
    "Increase sample size will reduce sampling error  \n",
    "  \n",
    "Mean absolute error (MAE) : 1/n $\\Sigma$ |e<sub>k</sub>|  \n",
    "Root Mean Squared Error (RMSE) : $\\sqrt{(1/n) \\Sigma ek^2}$   \n",
    "RMSE is more sensitive to outliers\n",
    "\n",
    "### Non-Sampling Error  \n",
    "Non-sampling errors occur due to mistakes made along the process of data acquisition  \n",
    "Increasing sample size **will not** reduce this type of error  \n",
    "Types of non-sampling error :  \n",
    "- Errors in data acquisition\n",
    "- Non-response errors\n",
    "- Selection bias\n",
    "- Self-selection bias  \n",
    "#### Self-selection bias  \n",
    "Individuals select themselves into a group, causing a **biased sample with nonprobability sampling**  \n",
    "\n"
   ],
   "cell_type": "markdown",
   "metadata": {}
  },
  {
   "source": [
    "# Chapter 9 : Sampling Distribution\n"
   ],
   "cell_type": "markdown",
   "metadata": {}
  },
  {
   "source": [
    "A sampling distribution of a statistic is a probability distribution of the statistics created by the sampling process  \n",
    "![](https://i.imgur.com/a7Ytvnv.png)\n",
    "![](https://i.imgur.com/jYGD170.png)  \n",
    "Xbar tends to be closer to $\\mu$ as the sample size increases  \n",
    "\n",
    "### Central Limit Theorm  \n",
    "The larger the sample size, the more closely the sampling distribution of $\\bar{x}$ will resemble a normal distribution  \n",
    "with mean = $\\mu$ and variance = $\\sigma^2$/n  \n",
    "\n",
    "#### Scipy.stats  \n",
    "- rvs: random variable\n",
    "- pdf: Probability density function\n",
    "- cdf: Cumulative distribution function\n",
    "- ppf: Percent point function (Inverse CDF)\n",
    "\n",
    "\n",
    "### Example : \n",
    "The amount of soda pop in each bottle is normally distributed with a mean of 32.2 ounces and a standard deviation of .3 ounces  \n",
    "Find the probability that 4 bottles will have a mean more than 32 ounces  "
   ],
   "cell_type": "markdown",
   "metadata": {}
  },
  {
   "source": [
    "xbar = 32 #Sample mean\n",
    "mu = 32.2 # Population mean\n",
    "std = 0.3 # Population std\n",
    "n = 4 # Sample size\n",
    "zcv = (xbar - mu) / (std / math.sqrt(n)) # Normalize\n",
    "p = 1 - stats.norm.cdf(zcv)\n",
    "print (p)"
   ],
   "cell_type": "code",
   "metadata": {},
   "execution_count": 5,
   "outputs": [
    {
     "output_type": "stream",
     "name": "stdout",
     "text": [
      "0.9087887802741352\n"
     ]
    }
   ]
  },
  {
   "source": [
    "![](https://i.imgur.com/8l4mZgB.png)\n",
    "![](https://i.imgur.com/aHb2ZYn.png)\n"
   ],
   "cell_type": "markdown",
   "metadata": {}
  },
  {
   "source": [
    "### Standard Deviation of $\\bar{x}$  \n",
    "- Finite Population :  \n",
    "![](https://i.imgur.com/nXjnA27.png)\n",
    "- Infinite Population :   \n",
    "When doing **random sample without replacement**  \n",
    "A finite population can be treated as infinite if n/N <= 0.5  \n",
    "![](https://i.imgur.com/mL4iKSV.png)  \n",
    " &radic;(N-n)/(N-1) is the finite correction factor  \n",
    " \n",
    " ### Binomial Experiment  \n",
    " ![](https://i.imgur.com/TSEPFVI.png)  \n",
    "\n",
    "## Normal approximation to the binomial\n",
    "Normal approximation to the binomial works best when  \n",
    "- sample size is large    \n",
    "- probability of success is close to 0.5.  \n",
    "np > 5 && n(1-p) > 5  \n",
    "$\\mu$ = np \n",
    "$\\sigma^2$ = np(1-p)  \n",
    "![](https://i.imgur.com/LYOENLN.png)  \n"
   ],
   "cell_type": "markdown",
   "metadata": {}
  },
  {
   "source": [
    "## Population and Sample Proportion\n",
    "The estimate of $p$ is $\\hat{p}$ = number of success / n  \n",
    "$E[\\hat{p}]$ = $p$  \n",
    "$\\sigma$<sub>$\\hat{p}$</sub> = $\\sqrt{p(1-p)/n}$\n",
    "p = population proportion  \n",
    "n = sample size  \n",
    "$\\sigma$<sub>$\\hat{p}$</sub> is standard error of proportion  \n",
    "![](https://i.imgur.com/zJA099N.png)  \n",
    "\n",
    "\n",
    "### Standard deviation of sampling distribution $\\hat{p}$  \n",
    "![](https://i.imgur.com/5UtccW5.png)  \n",
    "\n",
    "## Sampling Distribution of the Difference Between Two Means  \n",
    "![](https://i.imgur.com/XeNWepV.png)  \n",
    "![](https://i.imgur.com/sEfGJ8R.png)  \n"
   ],
   "cell_type": "markdown",
   "metadata": {}
  },
  {
   "source": [
    "# Chapter 10 : Introdiction to Estimation  \n",
    "Estimator Charateristics : \n",
    "- Unbiasedness  \n",
    "Expected value of sample statistics is equal to the population parameter being estimated  \n",
    "- Consistency  \n",
    "The point estimator become ** closer** to the population parameter as the sample size becomes bigger  \n",
    "- Efficiency  \n",
    "If there are two or more unbiased estimators of a parameter, the one whose variance (standard deviation) is **smaller** is said to be relatively efficient\n",
    "\n",
    "\n",
    "## Estimating $\\mu$ When $\\sigma$ is known  \n",
    "$\\bar{x}$ = the sample mean  \n",
    "1 – $\\alpha$ = the confidence level  \n",
    "z<sub>$\\alpha / 2$ </sub>/2 = the z value providing an area of $\\alpha$/2 in the upper tail of the standard normal probability distribution  \n",
    "s = the population standard deviation  \n",
    "n = the sample size  \n",
    "\n",
    "![](https://i.imgur.com/ZaVAAf8.png)  \n",
    "\n",
    "\n",
    "### Code Example :"
   ],
   "cell_type": "markdown",
   "metadata": {}
  },
  {
   "cell_type": "code",
   "execution_count": 8,
   "metadata": {},
   "outputs": [
    {
     "output_type": "stream",
     "name": "stdout",
     "text": [
      "Confidence interval : 127.0909 to 167.5758\n"
     ]
    }
   ],
   "source": [
    "sample = np.array([180, 130, 150, 165, 90, 130, 120, 60, 200, 180, 80, 240, 210, 150, 125])\n",
    "alpha = 0.05\n",
    "Xbar = sample.mean()\n",
    "zvalue = stats.norm.ppf(1-alpha/2)\n",
    "std = 40\n",
    "n = 15\n",
    "lcl = Xbar - zvalue * (std / (n ** 0.5))\n",
    "ucl = Xbar + zvalue * (std / (n ** 0.5))\n",
    "\n",
    "print (f\"Confidence interval : {lcl:.4f} to {ucl:.4f}\")"
   ]
  },
  {
   "source": [
    "## Determining the Sample Size  \n",
    "estimate the mean to within w units : $\\bar{x}$ +- w  \n",
    "w = z<sub>$\\alpha$/2</sub> * $\\sigma$ / $\\sqrt{n}$  \n",
    "n =  ( z<sub>$\\alpha$/2</sub> * $\\sigma$ / w )$^2$  \n",
    "\n",
    "\n",
    "## Estimation of 𝜇 Using the Sample Median  \n",
    "![](https://i.imgur.com/YnvQNCW.png)  \n",
    "![](https://i.imgur.com/akpwPBF.png)  \n",
    "\n"
   ],
   "cell_type": "markdown",
   "metadata": {}
  },
  {
   "source": [
    "# Introdiction to Hypothesis Testing  \n",
    "$H$<sub>0</sub> : Null hypothesis  \n",
    "$H$<sub>1</sub> : Alternative hypothesis (The one we want to prove)  \n",
    "### Type of Errors  \n",
    "![](https://i.imgur.com/fwW08R8.png)  \n",
    "P(Type I error) = $\\alpha$  \n",
    "P(Type II error) = $\\beta$  \n",
    "1 - $\\alpha$ is called **Confidence Level**  \n",
    "1 - $\\beta$ is called **Power of Test** (Reject a false null hypothesis )\n",
    "\n",
    "#### The Rejection Region Method  \n",
    "- $H$<sub>1</sub> : $\\mu$ > $\\mu$<sub>0</sub>  \n",
    "The Rejection Region is: $\\bar{x}$ >= $\\bar{x}$<sub>c</sub>  \n",
    "- $H$<sub>1</sub> : $\\mu$ < $\\mu$<sub>0</sub>  \n",
    "The Rejection Region is: $\\bar{x}$ <= $\\bar{x}$<sub>c</sub>  \n",
    "- $H$<sub>1</sub> : $\\mu$ $\\neq$ $\\mu$<sub>0</sub>  \n",
    "The Rejection Region is: $\\bar{x}$ <= $\\bar{x}$<sub>L</sub> or   $\\bar{x}$ >= $\\bar{x}$<sub>U</sub>  \n",
    "alpha needs to be divided by 2 when computing critical value  \n",
    "![](https://i.imgur.com/a2jmmG2.png) (Can vary for different $H$<sub>1</sub> )  \n",
    "\n",
    "#### Testing Statistics  \n",
    "Using standardized value $z = (\\bar{x} - \\mu) / (\\sigma / \\sqrt{n})$\n",
    "\n",
    "\n",
    "#### $p$-value Method (most commonly used) \n",
    "![](https://i.imgur.com/dfRzp1J.png)  \n",
    "If the p-value < $\\alpha$ then reject the null hypothesis  \n",
    "**Code**"
   ],
   "cell_type": "markdown",
   "metadata": {}
  },
  {
   "cell_type": "code",
   "execution_count": 10,
   "metadata": {},
   "outputs": [
    {
     "output_type": "stream",
     "name": "stdout",
     "text": [
      "0.7257468822499265\n"
     ]
    }
   ],
   "source": [
    "Xbar = 190\n",
    "mu = 200\n",
    "n = 9 # df.shape[0] if using dataframe\n",
    "std = 50\n",
    "z = (Xbar - mu) / (std / (n**0.5))\n",
    "p_value = 1 - stats.norm.cdf(z)\n",
    "print (p_value)"
   ]
  },
  {
   "cell_type": "code",
   "execution_count": null,
   "metadata": {},
   "outputs": [],
   "source": []
  }
 ]
}